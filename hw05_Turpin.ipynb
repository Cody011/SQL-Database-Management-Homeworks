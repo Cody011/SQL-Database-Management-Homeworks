{
 "cells": [
  {
   "cell_type": "markdown",
   "metadata": {},
   "source": [
    "YOUR NAME HERE: Cody Turpin"
   ]
  },
  {
   "cell_type": "markdown",
   "metadata": {},
   "source": [
    "# Homework 5: Bar Graphs & Group By\n",
    "\n",
    "Covers material from Ch 6/7 in the text\n",
    "\n",
    "* ### All visuals must have axes labels and a title, whether the directions state it or not.  \n",
    "\n",
    "* ### Also, Labels should reflect the units where needed as well.\n",
    "\n",
    "* ### Make sure that the text on the axes labels are present, grammatically correct, capitalized accurately, and make sense."
   ]
  },
  {
   "cell_type": "code",
   "execution_count": null,
   "metadata": {
    "collapsed": false,
    "jupyter": {
     "outputs_hidden": false
    }
   },
   "outputs": [],
   "source": [
    "#import the big 3 here\n",
    "import pandas as pd\n",
    "import numpy as np\n",
    "import matplotlib.pyplot as plt"
   ]
  },
  {
   "cell_type": "markdown",
   "metadata": {},
   "source": [
    "---\n",
    "## A. Causes of Death in California\n"
   ]
  },
  {
   "cell_type": "markdown",
   "metadata": {},
   "source": [
    "We'll be looking at a dataset from the California Department of Public Health (available [here](http://www.healthdata.gov/dataset/leading-causes-death-zip-code-1999-2013) and described [here](http://www.cdph.ca.gov/data/statistics/Pages/DeathProfilesbyZIPCode.aspx)) that records the cause of death (as recorded on a death certificate) for everyone who died in California from 1999 to 2013.  \n",
    "\n",
    "First, let's look at what causes of death are actually tracked.  Each has an abbreviation.  Import the file `abbreviations.csv` to see."
   ]
  },
  {
   "cell_type": "code",
   "execution_count": 2,
   "metadata": {},
   "outputs": [
    {
     "data": {
      "text/html": [
       "<div>\n",
       "<style scoped>\n",
       "    .dataframe tbody tr th:only-of-type {\n",
       "        vertical-align: middle;\n",
       "    }\n",
       "\n",
       "    .dataframe tbody tr th {\n",
       "        vertical-align: top;\n",
       "    }\n",
       "\n",
       "    .dataframe thead th {\n",
       "        text-align: right;\n",
       "    }\n",
       "</style>\n",
       "<table border=\"1\" class=\"dataframe\">\n",
       "  <thead>\n",
       "    <tr style=\"text-align: right;\">\n",
       "      <th></th>\n",
       "      <th>Cause of Death</th>\n",
       "      <th>Cause of Death (Full Description)</th>\n",
       "    </tr>\n",
       "  </thead>\n",
       "  <tbody>\n",
       "    <tr>\n",
       "      <th>0</th>\n",
       "      <td>AID</td>\n",
       "      <td>Acquired Immune Deficiency Syndrome (AIDS)</td>\n",
       "    </tr>\n",
       "    <tr>\n",
       "      <th>1</th>\n",
       "      <td>ALZ</td>\n",
       "      <td>Alzheimer's Disease</td>\n",
       "    </tr>\n",
       "    <tr>\n",
       "      <th>2</th>\n",
       "      <td>CAN</td>\n",
       "      <td>Malignant Neoplasms (Cancers)</td>\n",
       "    </tr>\n",
       "    <tr>\n",
       "      <th>3</th>\n",
       "      <td>CLD</td>\n",
       "      <td>Chronic Lower Respiratory Disease (CLRD)</td>\n",
       "    </tr>\n",
       "    <tr>\n",
       "      <th>4</th>\n",
       "      <td>CPD</td>\n",
       "      <td>Chronic Obstructive Pulmonary Disease (COPD)</td>\n",
       "    </tr>\n",
       "    <tr>\n",
       "      <th>5</th>\n",
       "      <td>DIA</td>\n",
       "      <td>Diabetes Mellitus</td>\n",
       "    </tr>\n",
       "    <tr>\n",
       "      <th>6</th>\n",
       "      <td>HIV</td>\n",
       "      <td>Human Immunodeficiency Virus Disease (HIVD)</td>\n",
       "    </tr>\n",
       "    <tr>\n",
       "      <th>7</th>\n",
       "      <td>HOM</td>\n",
       "      <td>Homicide</td>\n",
       "    </tr>\n",
       "    <tr>\n",
       "      <th>8</th>\n",
       "      <td>HTD</td>\n",
       "      <td>Diseases of the Heart</td>\n",
       "    </tr>\n",
       "    <tr>\n",
       "      <th>9</th>\n",
       "      <td>HYP</td>\n",
       "      <td>Essential Hypertension and Hypertensive Renal ...</td>\n",
       "    </tr>\n",
       "    <tr>\n",
       "      <th>10</th>\n",
       "      <td>INJ</td>\n",
       "      <td>Unintentional Injuries</td>\n",
       "    </tr>\n",
       "    <tr>\n",
       "      <th>11</th>\n",
       "      <td>LIV</td>\n",
       "      <td>Chronic Liver Disease and Cirrhosis</td>\n",
       "    </tr>\n",
       "    <tr>\n",
       "      <th>12</th>\n",
       "      <td>NEP</td>\n",
       "      <td>Kidney Disease (Nephritis)</td>\n",
       "    </tr>\n",
       "    <tr>\n",
       "      <th>13</th>\n",
       "      <td>OTH</td>\n",
       "      <td>All Other Causes</td>\n",
       "    </tr>\n",
       "    <tr>\n",
       "      <th>14</th>\n",
       "      <td>PNF</td>\n",
       "      <td>Pneumonia and Influenza</td>\n",
       "    </tr>\n",
       "    <tr>\n",
       "      <th>15</th>\n",
       "      <td>STK</td>\n",
       "      <td>Cerebrovascular Disease (Stroke)</td>\n",
       "    </tr>\n",
       "    <tr>\n",
       "      <th>16</th>\n",
       "      <td>SUI</td>\n",
       "      <td>Intentional Self Harm (Suicide)</td>\n",
       "    </tr>\n",
       "  </tbody>\n",
       "</table>\n",
       "</div>"
      ],
      "text/plain": [
       "   Cause of Death                  Cause of Death (Full Description)\n",
       "0             AID         Acquired Immune Deficiency Syndrome (AIDS)\n",
       "1             ALZ                                Alzheimer's Disease\n",
       "2             CAN                      Malignant Neoplasms (Cancers)\n",
       "3             CLD           Chronic Lower Respiratory Disease (CLRD)\n",
       "4             CPD       Chronic Obstructive Pulmonary Disease (COPD)\n",
       "5             DIA                                  Diabetes Mellitus\n",
       "6             HIV        Human Immunodeficiency Virus Disease (HIVD)\n",
       "7             HOM                                           Homicide\n",
       "8             HTD                              Diseases of the Heart\n",
       "9             HYP  Essential Hypertension and Hypertensive Renal ...\n",
       "10            INJ                             Unintentional Injuries\n",
       "11            LIV                Chronic Liver Disease and Cirrhosis\n",
       "12            NEP                         Kidney Disease (Nephritis)\n",
       "13            OTH                                   All Other Causes\n",
       "14            PNF                            Pneumonia and Influenza\n",
       "15            STK                   Cerebrovascular Disease (Stroke)\n",
       "16            SUI                    Intentional Self Harm (Suicide)"
      ]
     },
     "execution_count": 2,
     "metadata": {},
     "output_type": "execute_result"
    }
   ],
   "source": [
    "abbreviations = pd.read_csv(\"abbreviations.csv\")\n",
    "abbreviations"
   ]
  },
  {
   "cell_type": "markdown",
   "metadata": {},
   "source": [
    "Now let's look at the Public Health data set for everyone who died in California from 1999 to 2013.  The data are in the file `causes_of_death.csv`.  Each row records the number of deaths by one cause in one year in one ZIP code."
   ]
  },
  {
   "cell_type": "code",
   "execution_count": null,
   "metadata": {
    "collapsed": false,
    "jupyter": {
     "outputs_hidden": false
    }
   },
   "outputs": [],
   "source": [
    "causes = pd.read_csv('causes_of_death.csv')\n",
    "causes.head(20)"
   ]
  },
  {
   "cell_type": "markdown",
   "metadata": {},
   "source": [
    "### Question 1\n",
    "\n",
    "Sensibly, there are a lot of rows in the table.  Find the number of rows in the table."
   ]
  },
  {
   "cell_type": "code",
   "execution_count": 4,
   "metadata": {},
   "outputs": [
    {
     "data": {
      "text/plain": [
       "320152"
      ]
     },
     "execution_count": 4,
     "metadata": {},
     "output_type": "execute_result"
    }
   ],
   "source": [
    "#Your code here\n",
    "len(causes)"
   ]
  },
  {
   "cell_type": "markdown",
   "metadata": {},
   "source": [
    "---\n",
    "\n",
    "### Question 2\n",
    "\n",
    "Find the number of zip codes contained in the data."
   ]
  },
  {
   "cell_type": "code",
   "execution_count": 5,
   "metadata": {},
   "outputs": [
    {
     "data": {
      "text/plain": [
       "1785"
      ]
     },
     "execution_count": 5,
     "metadata": {},
     "output_type": "execute_result"
    }
   ],
   "source": [
    "#Your code here\n",
    "len_zip = causes['ZIP Code'].unique()\n",
    "len_zip = len(len_zip)\n",
    "len_zip"
   ]
  },
  {
   "cell_type": "markdown",
   "metadata": {},
   "source": [
    "---\n",
    "\n",
    "###  Question 3  \n",
    "\n",
    "Find the top 5 causes of death in California over the entire period covered by the data.  To do that, create a table with one row for each of the top 5 causes of death, a column called \"Cause of Death\", and a column called \"Count\" that records the total number of deaths due to that cause.  \n",
    "\n",
    "Your table should: \n",
    "\n",
    "* Be called `top_5_causes`.\n",
    "\n",
    "* Be sorted in descending order by count.\n",
    "\n",
    "\n",
    "* Have at most 2 columns, no more.\n",
    "\n",
    "* Be a dataframe and not a series (so it should look pretty with rows alternating white/grey instead of just text)"
   ]
  },
  {
   "cell_type": "code",
   "execution_count": 6,
   "metadata": {
    "for_assignment_type": "student"
   },
   "outputs": [
    {
     "data": {
      "text/html": [
       "<div>\n",
       "<style scoped>\n",
       "    .dataframe tbody tr th:only-of-type {\n",
       "        vertical-align: middle;\n",
       "    }\n",
       "\n",
       "    .dataframe tbody tr th {\n",
       "        vertical-align: top;\n",
       "    }\n",
       "\n",
       "    .dataframe thead th {\n",
       "        text-align: right;\n",
       "    }\n",
       "</style>\n",
       "<table border=\"1\" class=\"dataframe\">\n",
       "  <thead>\n",
       "    <tr style=\"text-align: right;\">\n",
       "      <th></th>\n",
       "      <th>Cause of Death</th>\n",
       "      <th>Count</th>\n",
       "    </tr>\n",
       "  </thead>\n",
       "  <tbody>\n",
       "    <tr>\n",
       "      <th>232017</th>\n",
       "      <td>OTH</td>\n",
       "      <td>1003</td>\n",
       "    </tr>\n",
       "    <tr>\n",
       "      <th>232016</th>\n",
       "      <td>HTD</td>\n",
       "      <td>807</td>\n",
       "    </tr>\n",
       "    <tr>\n",
       "      <th>232015</th>\n",
       "      <td>HTD</td>\n",
       "      <td>787</td>\n",
       "    </tr>\n",
       "    <tr>\n",
       "      <th>232014</th>\n",
       "      <td>OTH</td>\n",
       "      <td>762</td>\n",
       "    </tr>\n",
       "    <tr>\n",
       "      <th>232013</th>\n",
       "      <td>HTD</td>\n",
       "      <td>696</td>\n",
       "    </tr>\n",
       "  </tbody>\n",
       "</table>\n",
       "</div>"
      ],
      "text/plain": [
       "       Cause of Death  Count\n",
       "232017            OTH   1003\n",
       "232016            HTD    807\n",
       "232015            HTD    787\n",
       "232014            OTH    762\n",
       "232013            HTD    696"
      ]
     },
     "execution_count": 6,
     "metadata": {},
     "output_type": "execute_result"
    }
   ],
   "source": [
    "# Use this cell to find the top 5 causes of death.\n",
    "# Enter more cells if needed\n",
    "causes_of_death = causes[['Cause of Death','Count']]\n",
    "top_5_causes = causes_of_death.sort_values(by='Count', ascending = False)\n",
    "top_5_causes = top_5_causes.head(5)\n",
    "top_5_causes"
   ]
  },
  {
   "cell_type": "markdown",
   "metadata": {
    "tags": []
   },
   "source": [
    "### Question 4\n",
    "\n",
    "Create a horizontal bar chart that displays the *proportion of all deaths* by each cause.  \n",
    "\n",
    "NOTES:\n",
    "\n",
    "* There should be a bar for each possible category, so you're not using the dataframe from the previous question.\n",
    "* The bars should be ordered, longest at the top to shortest at the bottom.\n"
   ]
  },
  {
   "cell_type": "code",
   "execution_count": null,
   "metadata": {
    "collapsed": false,
    "for_assignment_type": "student",
    "jupyter": {
     "outputs_hidden": false
    }
   },
   "outputs": [],
   "source": [
    "# Use this cell to make your plot.\n",
    "causes"
   ]
  },
  {
   "cell_type": "markdown",
   "metadata": {},
   "source": [
    "### Question 5\n",
    "\n",
    "A) Create a line graph of the total number of deaths per year in California.\n",
    "\n",
    "* Make the y axis range from 0 to 300000"
   ]
  },
  {
   "cell_type": "code",
   "execution_count": null,
   "metadata": {},
   "outputs": [],
   "source": [
    "plt.barh(causes['Count'], causes['Cause of Death'])\n",
    "plt.xlabel('Count')\n",
    "plt.ylabel('Cause of Death')\n",
    "plt.title('Cause of Death')"
   ]
  },
  {
   "cell_type": "code",
   "execution_count": null,
   "metadata": {
    "collapsed": false,
    "jupyter": {
     "outputs_hidden": false
    }
   },
   "outputs": [],
   "source": [
    "#Your code here - Enter more cells if needed\n",
    "plt.plot(causes['Year'], causes['Count'])\n",
    "plt.xlabel('Year')\n",
    "plt.ylabel('Count')"
   ]
  },
  {
   "cell_type": "markdown",
   "metadata": {},
   "source": [
    "B) Use the **loops with stars** to loop over each group you created to make the plot above, so as to check the validity of your groups prior to aggregating."
   ]
  },
  {
   "cell_type": "code",
   "execution_count": null,
   "metadata": {},
   "outputs": [],
   "source": [
    "#Your code here - Enter more cells if needed"
   ]
  },
  {
   "cell_type": "markdown",
   "metadata": {},
   "source": [
    "C) You should see that deaths have increased a little over time, though not uniformly.  How would you explain that?  Describe a dataset you'd like to see to test whether your explanation is valid."
   ]
  },
  {
   "cell_type": "markdown",
   "metadata": {},
   "source": [
    "*Your answer here*"
   ]
  },
  {
   "cell_type": "markdown",
   "metadata": {},
   "source": [
    "D) Create a line graph of the total number of deaths for each of the top 5 categories per year in California.\n",
    "\n",
    "* Be sure to include a legend.\n",
    "\n",
    "* HINT:  To get started use ``isin`` to get just the rows with the top 5 categories."
   ]
  },
  {
   "cell_type": "code",
   "execution_count": null,
   "metadata": {},
   "outputs": [],
   "source": [
    "#Your code here - Enter more cells if needed"
   ]
  },
  {
   "cell_type": "markdown",
   "metadata": {},
   "source": [
    "E)  Which cause seems to have a decreasing rate versus an increasing rate?  Do not use the abbreviation.  Look up the cause of death."
   ]
  },
  {
   "cell_type": "markdown",
   "metadata": {},
   "source": [
    "*Your answer here*"
   ]
  },
  {
   "cell_type": "markdown",
   "metadata": {},
   "source": [
    "---\n",
    "## B. Consumer Financial Protection Bureau Complaints\n"
   ]
  },
  {
   "cell_type": "markdown",
   "metadata": {},
   "source": [
    "The Consumer Financial Protection Bureau has collected and published consumer complaints against financial companies since 2011.  The data was retrieved from  [here](https://dev.socrata.com/foundry/data.consumerfinance.gov/jhzv-w97w) .  For this exercise, to make your code run faster, we've selected only the data from May 2016.\n",
    "\n",
    "Run the next cell to load the data.  Each row represents one consumer's complaint."
   ]
  },
  {
   "cell_type": "code",
   "execution_count": null,
   "metadata": {
    "collapsed": false,
    "jupyter": {
     "outputs_hidden": false
    }
   },
   "outputs": [],
   "source": [
    "# Just run this cell.\n",
    "complaints = pd.read_csv(\"complaints.csv\")\n",
    "complaints"
   ]
  },
  {
   "cell_type": "markdown",
   "metadata": {},
   "source": [
    "---\n",
    "\n",
    "###  Question 6  \n",
    "\n",
    "Financial companies offer a variety of products.  How many complaints were made against each kind of product?  Make a table called `complaints_per_product` with one row per product category and 2 columns: \"product\" (the name of the product) and \"number of complaints\" (the number of complaints made against that kind of product)."
   ]
  },
  {
   "cell_type": "code",
   "execution_count": null,
   "metadata": {
    "collapsed": false,
    "jupyter": {
     "outputs_hidden": false
    }
   },
   "outputs": [],
   "source": [
    "#Your code here - Enter more cells if needed"
   ]
  },
  {
   "cell_type": "markdown",
   "metadata": {},
   "source": [
    "---\n",
    "\n",
    "###  Question 7  \n",
    "\n",
    "Make a bar chart showing how many complaints were made about each product category."
   ]
  },
  {
   "cell_type": "code",
   "execution_count": null,
   "metadata": {
    "collapsed": false,
    "jupyter": {
     "outputs_hidden": false
    }
   },
   "outputs": [],
   "source": [
    "#Your code here - Enter more cells if needed"
   ]
  },
  {
   "cell_type": "markdown",
   "metadata": {},
   "source": [
    "---\n",
    "\n",
    "###  Question 8  \n",
    "\n",
    "Make a table of the number of complaints made against each *company*.  Call it `complaints_per_company`.  It should have one row per company and 2 columns: \"company\" (the name of the company) and \"number of complaints\" (the number of complaints made against that company)."
   ]
  },
  {
   "cell_type": "code",
   "execution_count": null,
   "metadata": {
    "collapsed": false,
    "jupyter": {
     "outputs_hidden": false
    }
   },
   "outputs": [],
   "source": [
    "#Your code here - Enter more cells if needed"
   ]
  },
  {
   "cell_type": "markdown",
   "metadata": {},
   "source": [
    "---\n",
    "\n",
    "### Question 9\n",
    "\n",
    "It wouldn't be a good idea to make a bar chart of that data.  (Don't try it!)  Why not?"
   ]
  },
  {
   "cell_type": "markdown",
   "metadata": {},
   "source": [
    "*Write your answer here, replacing this text.*"
   ]
  },
  {
   "cell_type": "markdown",
   "metadata": {},
   "source": [
    "There are way too many rows/companies for a bar chart!"
   ]
  },
  {
   "cell_type": "markdown",
   "metadata": {},
   "source": [
    "---\n",
    "\n",
    "### Question 10\n",
    "\n",
    "Make a bar chart of just the companies with the most complaints.  Specifically, make a chart that displays the number of complaints against the companies with the 10 most complaints."
   ]
  },
  {
   "cell_type": "code",
   "execution_count": null,
   "metadata": {
    "collapsed": false,
    "jupyter": {
     "outputs_hidden": false
    }
   },
   "outputs": [],
   "source": [
    "#Your code here - Enter more cells if needed"
   ]
  },
  {
   "cell_type": "markdown",
   "metadata": {},
   "source": [
    "---\n",
    "\n",
    "### Question 11\n",
    "\n",
    "Make a bar chart like the one above, with one difference: The size of each company's bar should be the *proportion* (among *all complaints* made against any company in `complaints`) that were made against that company."
   ]
  },
  {
   "cell_type": "code",
   "execution_count": null,
   "metadata": {
    "collapsed": false,
    "for_assignment_type": "student",
    "jupyter": {
     "outputs_hidden": false
    }
   },
   "outputs": [],
   "source": [
    "#Your code here - Enter more cells if needed"
   ]
  },
  {
   "cell_type": "markdown",
   "metadata": {},
   "source": [
    "---\n",
    "## C. Car Types\n",
    "\n",
    "This data set contains info on the 2019 models of widely sold cars. Each row has this data. \n",
    "\n",
    "* Make_Model\n",
    "*  Sadan\n",
    "* SUV\n",
    "* Hatchback\n",
    "* Convertible\n",
    "* Wagon\n",
    "* Coupe\n",
    "* Minivan\n",
    "* Drive Wheels (Available)\n",
    "* Seating\n",
    "* Engine (liter)\n",
    "* HP (Horse Power)\n",
    "* Length (in)\n",
    "* Width (in)\n",
    "* Height (in)\n",
    "* Wheelbase (in)\n",
    "* Weight (lbs)\n",
    "* Cargo Volume (cu ft.)\n",
    "* Overall MPG (Miles Per Gallon)\n",
    "* Lowest MSRP (MSRP stands for Manufacture Suggested Retail Price)\n",
    "* Parent Company HQ\n"
   ]
  },
  {
   "cell_type": "code",
   "execution_count": null,
   "metadata": {},
   "outputs": [],
   "source": [
    "cars = pd.read_csv(\"cars.csv\")\n",
    "cars"
   ]
  },
  {
   "cell_type": "markdown",
   "metadata": {},
   "source": [
    "---\n",
    "\n",
    "### Question 12\n",
    "\n",
    "The \"Parent Company HQ\" column indicates the country of each make/model.  Create a table showing the number of unique make/models per country.  \n",
    "\n",
    "* When done, the table should contain at most 2 columns:  one named \"country\" and one named \"Number of Make/Models\"\n",
    "* Hint:  ``nunique()`` is an aggregate function.\n",
    "\n"
   ]
  },
  {
   "cell_type": "code",
   "execution_count": null,
   "metadata": {},
   "outputs": [],
   "source": [
    "#Your code here - Enter more cells if needed"
   ]
  },
  {
   "cell_type": "markdown",
   "metadata": {},
   "source": [
    "---\n",
    "\n",
    "### Question 13\n",
    "\n",
    "How many make/models are designated as convertibles in the data set?"
   ]
  },
  {
   "cell_type": "code",
   "execution_count": null,
   "metadata": {},
   "outputs": [],
   "source": [
    "#Your code to answer the question goes here\n",
    "..."
   ]
  },
  {
   "cell_type": "markdown",
   "metadata": {},
   "source": [
    "---\n",
    "\n",
    "### Question 14\n",
    "\n",
    "Create a bar chart that shows the average Lowest MSRP of SUVs versus non SUVs in the data set.\n",
    "\n",
    "* HINT:  Use ``groupby``"
   ]
  },
  {
   "cell_type": "code",
   "execution_count": null,
   "metadata": {},
   "outputs": [],
   "source": [
    "#Your code to answer the question goes here - Create more code cells if needed.\n",
    "..."
   ]
  },
  {
   "cell_type": "markdown",
   "metadata": {},
   "source": [
    "---\n",
    "\n",
    "### Question 15\n",
    "\n",
    "A) Create a scatter plot of Overall MPG vs. Weight of the cars.  "
   ]
  },
  {
   "cell_type": "code",
   "execution_count": null,
   "metadata": {},
   "outputs": [],
   "source": [
    "#Your code to answer the question goes here\n",
    "..."
   ]
  },
  {
   "cell_type": "markdown",
   "metadata": {},
   "source": [
    "B) Find the correlation coefficient and write a sentence interpreting it."
   ]
  },
  {
   "cell_type": "markdown",
   "metadata": {},
   "source": [
    "*Write your answer here, replacing this text.*"
   ]
  },
  {
   "cell_type": "markdown",
   "metadata": {},
   "source": [
    "---\n",
    "\n",
    "## ASK GOOD QUESTIONS\n",
    "\n",
    "We can use groupby to  ask good questions.  \n",
    "\n",
    "### Question 16\n",
    "\n",
    "A) Ask a **mature** question about the car data set that can be answered via ``groupby`` and a bar chart."
   ]
  },
  {
   "cell_type": "markdown",
   "metadata": {},
   "source": [
    "*Write your question here, replacing this text.*"
   ]
  },
  {
   "cell_type": "markdown",
   "metadata": {},
   "source": [
    "B) Draw the bar chart."
   ]
  },
  {
   "cell_type": "code",
   "execution_count": null,
   "metadata": {},
   "outputs": [],
   "source": [
    "#Code here\n",
    "#As always, Feel free to add more code cells!\n",
    "..."
   ]
  },
  {
   "cell_type": "markdown",
   "metadata": {},
   "source": [
    "C) What do you learn your question/analysis?"
   ]
  },
  {
   "cell_type": "markdown",
   "metadata": {},
   "source": [
    "*Write your answer here, replacing this text.*"
   ]
  },
  {
   "cell_type": "markdown",
   "metadata": {},
   "source": [
    "---\n",
    "\n",
    "\n",
    "## EMPLOYEE DATA\n",
    "\n",
    "Now let's ask good questions about the employee dataset.  Recall that the company that generated the dataset was trying to understand employee satisfcation and retention.  \n",
    "\n",
    "Import it by running the cell below.  Here 's an explanation of variables/headers:\n",
    "\n",
    "* **employee_id**                  \n",
    "* **satisfaction_level**:                       A score rating how satisfied the employee was with the company (scale 0-1)        \n",
    "* **last_evaluation_score**:               A score from 0-1 rating the person's performance\n",
    "* **number_of_projects**:                 Number of projects the person was assigned to        \n",
    "* **average_monthly_hours**:          The average hours the person worked per month        \n",
    "* **years_spent_at_company**:        \n",
    "* **work_accident**:                           \n",
    "    * 0: No accident   \n",
    "    * 1: The person was in an accident\n",
    "* **left_company**                              \n",
    "    * 0: Did not leave company    \n",
    "    * 1: Did leave company        \n",
    "* **promotion_in_last_5years**       \n",
    "    * 0: Not promoted over last 5 years   \n",
    "    * 1: Was promoted\n",
    "* **department**       \n",
    "* **salary:**                                          high medium or low based on the groups in salary_range\n",
    "* **salary_range:**                              \n",
    "    * less than 45,000\n",
    "    * 45000-74999 \n",
    "    * 75000 or more"
   ]
  },
  {
   "cell_type": "code",
   "execution_count": null,
   "metadata": {},
   "outputs": [],
   "source": [
    "emp_data = pd.read_csv(\"employee_satisfaction.csv\")\n",
    "emp_data"
   ]
  },
  {
   "cell_type": "markdown",
   "metadata": {},
   "source": [
    "\n",
    "### Question 17\n",
    "\n",
    "A) Find the average salary per department using groupby."
   ]
  },
  {
   "cell_type": "code",
   "execution_count": null,
   "metadata": {},
   "outputs": [],
   "source": [
    "..."
   ]
  },
  {
   "cell_type": "markdown",
   "metadata": {},
   "source": [
    "B) Create an appropriate visualization to show the average salary per department from (A).\n"
   ]
  },
  {
   "cell_type": "code",
   "execution_count": null,
   "metadata": {},
   "outputs": [],
   "source": [
    "#Code here\n",
    "#Feel free to add more code cells!"
   ]
  },
  {
   "cell_type": "markdown",
   "metadata": {},
   "source": [
    "C)  Explain what we can learn from this visualization."
   ]
  },
  {
   "cell_type": "markdown",
   "metadata": {},
   "source": [
    "*Write your explanation summarizing what you've learned.*"
   ]
  },
  {
   "cell_type": "markdown",
   "metadata": {},
   "source": [
    "---\n",
    "\n",
    "### Question 18\n",
    "\n",
    "A) Find the average satisfaction level per number of years at the company using groupby."
   ]
  },
  {
   "cell_type": "code",
   "execution_count": null,
   "metadata": {},
   "outputs": [],
   "source": [
    "..."
   ]
  },
  {
   "cell_type": "markdown",
   "metadata": {},
   "source": [
    "B) Create an appropriate visualization to show how the average satisfcation level changes per year, using the result of (A).\n"
   ]
  },
  {
   "cell_type": "code",
   "execution_count": null,
   "metadata": {},
   "outputs": [],
   "source": [
    "#Code here\n",
    "#Feel free to add more code cells!"
   ]
  },
  {
   "cell_type": "markdown",
   "metadata": {},
   "source": [
    "C)  Explain what we can learn from this visualization."
   ]
  },
  {
   "cell_type": "markdown",
   "metadata": {},
   "source": [
    "*Write your explanation summarizing what you've learned.*"
   ]
  },
  {
   "cell_type": "markdown",
   "metadata": {},
   "source": [
    "---\n",
    "\n",
    "You're done!  Submit!"
   ]
  }
 ],
 "metadata": {
  "kernelspec": {
   "display_name": "Python 3 (ipykernel)",
   "language": "python",
   "name": "python3"
  },
  "language_info": {
   "codemirror_mode": {
    "name": "ipython",
    "version": 3
   },
   "file_extension": ".py",
   "mimetype": "text/x-python",
   "name": "python",
   "nbconvert_exporter": "python",
   "pygments_lexer": "ipython3",
   "version": "3.9.7"
  }
 },
 "nbformat": 4,
 "nbformat_minor": 4
}

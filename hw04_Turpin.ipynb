{
 "cells": [
  {
   "cell_type": "markdown",
   "metadata": {},
   "source": [
    "YOUR NAME HERE: Cody Turpin"
   ]
  },
  {
   "cell_type": "markdown",
   "metadata": {},
   "source": [
    "# Homework 4: Line  Graphs and Scatter Graphs\n",
    "\n",
    "Covers material from Ch 6/7 in the text\n",
    "\n",
    "## All visuals must have axes labels and a title, whether the directions state it or not.  Labels should reflect the units where needed as well.\n",
    "\n",
    "Make sure that the text on the axes labels are present, grammatically correct, capitalized accurately, and make sense."
   ]
  },
  {
   "cell_type": "code",
   "execution_count": 2,
   "metadata": {
    "collapsed": false,
    "jupyter": {
     "outputs_hidden": false
    }
   },
   "outputs": [],
   "source": [
    "#Please import the 3 packages you need for working with tables and data frames here\n",
    "import pandas as pd\n",
    "import numpy as np\n",
    "import matplotlib.pyplot as plt\n",
    "#Please write the line that lets you use the 538 style below."
   ]
  },
  {
   "cell_type": "markdown",
   "metadata": {},
   "source": [
    "---\n",
    "## A. Old Faithful"
   ]
  },
  {
   "cell_type": "markdown",
   "metadata": {},
   "source": [
    "It is said that the famous Old Faithful hot water geyser in Yellowstone National park erupts every 44 to 125 minutes (according to [Wikipedia](https://en.wikipedia.org/wiki/Old_Faithful)). People are [often told that the geyser erupts every hour](http://yellowstone.net/geysers/old-faithful/), but that's based on today's data.\n",
    "\n",
    "In this section, we'll consider a classic data set giving recorded times between consecutive eruptions. An interesting problem is to attempt to predict the time of the next eruption. This data is 20 or so years old, but Old Faithful's habits don't change much. \n",
    "\n",
    "Each row in the \"geyser.csv\" file represents an observed eruption of the Old Faithful Geyser in Yellowstone National Park. \n",
    "* The eruptions column represents the duration of the eruption in **minutes**, and \n",
    "* the waiting column represents the duration in **minutes** since the prior eruption.  \n",
    "\n",
    "For example the first eruption lasted 3.6 minutes and occurred 79 minutes after the previous eruption.\n",
    "\n",
    "This data was original published [here](https://bl.ocks.org/) but the primary source is here: Härdle, W. (1991) Smoothing Techniques with Implementation in S. New York: Springer."
   ]
  },
  {
   "cell_type": "code",
   "execution_count": 3,
   "metadata": {},
   "outputs": [
    {
     "data": {
      "text/html": [
       "<div>\n",
       "<style scoped>\n",
       "    .dataframe tbody tr th:only-of-type {\n",
       "        vertical-align: middle;\n",
       "    }\n",
       "\n",
       "    .dataframe tbody tr th {\n",
       "        vertical-align: top;\n",
       "    }\n",
       "\n",
       "    .dataframe thead th {\n",
       "        text-align: right;\n",
       "    }\n",
       "</style>\n",
       "<table border=\"1\" class=\"dataframe\">\n",
       "  <thead>\n",
       "    <tr style=\"text-align: right;\">\n",
       "      <th></th>\n",
       "      <th>duration</th>\n",
       "      <th>waiting</th>\n",
       "    </tr>\n",
       "  </thead>\n",
       "  <tbody>\n",
       "    <tr>\n",
       "      <th>0</th>\n",
       "      <td>3.600</td>\n",
       "      <td>79</td>\n",
       "    </tr>\n",
       "    <tr>\n",
       "      <th>1</th>\n",
       "      <td>1.800</td>\n",
       "      <td>54</td>\n",
       "    </tr>\n",
       "    <tr>\n",
       "      <th>2</th>\n",
       "      <td>3.333</td>\n",
       "      <td>74</td>\n",
       "    </tr>\n",
       "    <tr>\n",
       "      <th>3</th>\n",
       "      <td>2.283</td>\n",
       "      <td>62</td>\n",
       "    </tr>\n",
       "    <tr>\n",
       "      <th>4</th>\n",
       "      <td>4.533</td>\n",
       "      <td>85</td>\n",
       "    </tr>\n",
       "    <tr>\n",
       "      <th>...</th>\n",
       "      <td>...</td>\n",
       "      <td>...</td>\n",
       "    </tr>\n",
       "    <tr>\n",
       "      <th>267</th>\n",
       "      <td>4.117</td>\n",
       "      <td>81</td>\n",
       "    </tr>\n",
       "    <tr>\n",
       "      <th>268</th>\n",
       "      <td>2.150</td>\n",
       "      <td>46</td>\n",
       "    </tr>\n",
       "    <tr>\n",
       "      <th>269</th>\n",
       "      <td>4.417</td>\n",
       "      <td>90</td>\n",
       "    </tr>\n",
       "    <tr>\n",
       "      <th>270</th>\n",
       "      <td>1.817</td>\n",
       "      <td>46</td>\n",
       "    </tr>\n",
       "    <tr>\n",
       "      <th>271</th>\n",
       "      <td>4.467</td>\n",
       "      <td>74</td>\n",
       "    </tr>\n",
       "  </tbody>\n",
       "</table>\n",
       "<p>272 rows × 2 columns</p>\n",
       "</div>"
      ],
      "text/plain": [
       "     duration  waiting\n",
       "0       3.600       79\n",
       "1       1.800       54\n",
       "2       3.333       74\n",
       "3       2.283       62\n",
       "4       4.533       85\n",
       "..        ...      ...\n",
       "267     4.117       81\n",
       "268     2.150       46\n",
       "269     4.417       90\n",
       "270     1.817       46\n",
       "271     4.467       74\n",
       "\n",
       "[272 rows x 2 columns]"
      ]
     },
     "execution_count": 3,
     "metadata": {},
     "output_type": "execute_result"
    }
   ],
   "source": [
    "geyser = pd.read_csv(\"geyser.csv\")\n",
    "geyser"
   ]
  },
  {
   "cell_type": "markdown",
   "metadata": {},
   "source": [
    "---\n",
    "\n",
    "### **Question 1.** \n",
    "\n",
    "Create a scatter plot to show the relationship between the duration of an eruption and how much time passes till the next eruption.  Place the Duration on the x axis."
   ]
  },
  {
   "cell_type": "code",
   "execution_count": 4,
   "metadata": {},
   "outputs": [
    {
     "data": {
      "image/png": "[encoded data removed]",
      "text/plain": [
       "<Figure size 432x288 with 1 Axes>"
      ]
     },
     "metadata": {
      "needs_background": "light"
     },
     "output_type": "display_data"
    }
   ],
   "source": [
    "#Scatter Plot Code here\n",
    "plt.scatter(geyser['duration'], geyser['waiting'])\n",
    "plt.xlabel('Duration')\n",
    "plt.ylabel('Waiting');"
   ]
  },
  {
   "cell_type": "markdown",
   "metadata": {},
   "source": [
    "---\n",
    "\n",
    "### **Question 2.** \n",
    "\n",
    "A)  Assign values to `shortest`, `longest`, and `average` so that the `print` statement is correct."
   ]
  },
  {
   "cell_type": "code",
   "execution_count": 5,
   "metadata": {},
   "outputs": [
    {
     "name": "stdout",
     "output_type": "stream",
     "text": [
      "Old Faithful erupts every 43 to 96 minutes and every 70.8970588235294 minutes on average.\n"
     ]
    }
   ],
   "source": [
    "shortest = geyser['waiting'].min()\n",
    "longest = geyser['waiting'].max()\n",
    "average = geyser['waiting'].mean()\n",
    "\n",
    "print(\"Old Faithful erupts every\", shortest, \"to\", longest, \"minutes and every\", average, \"minutes on average.\")"
   ]
  },
  {
   "cell_type": "markdown",
   "metadata": {},
   "source": [
    "B) Compare the 20 year old data to today's data. (Remember: Wikipedia tells us currently the geyser erupts every 44 to 125 minutes.)  What appears to be different?"
   ]
  },
  {
   "cell_type": "markdown",
   "metadata": {},
   "source": [
    "The data 20 years ago has the range from 43 to 96 minutes, whereas today it's from 44 to 125 minutes, meaning that the geyser erupts less frequently today than it did 20 years ago."
   ]
  },
  {
   "cell_type": "markdown",
   "metadata": {},
   "source": [
    "---\n",
    "\n",
    "### **Question 3.** \n",
    "\n",
    "A) Find the correlation coefficient between the 2 variables in our dataset."
   ]
  },
  {
   "cell_type": "code",
   "execution_count": 6,
   "metadata": {},
   "outputs": [
    {
     "data": {
      "text/html": [
       "<div>\n",
       "<style scoped>\n",
       "    .dataframe tbody tr th:only-of-type {\n",
       "        vertical-align: middle;\n",
       "    }\n",
       "\n",
       "    .dataframe tbody tr th {\n",
       "        vertical-align: top;\n",
       "    }\n",
       "\n",
       "    .dataframe thead th {\n",
       "        text-align: right;\n",
       "    }\n",
       "</style>\n",
       "<table border=\"1\" class=\"dataframe\">\n",
       "  <thead>\n",
       "    <tr style=\"text-align: right;\">\n",
       "      <th></th>\n",
       "      <th>duration</th>\n",
       "      <th>waiting</th>\n",
       "    </tr>\n",
       "  </thead>\n",
       "  <tbody>\n",
       "    <tr>\n",
       "      <th>duration</th>\n",
       "      <td>1.000000</td>\n",
       "      <td>0.900811</td>\n",
       "    </tr>\n",
       "    <tr>\n",
       "      <th>waiting</th>\n",
       "      <td>0.900811</td>\n",
       "      <td>1.000000</td>\n",
       "    </tr>\n",
       "  </tbody>\n",
       "</table>\n",
       "</div>"
      ],
      "text/plain": [
       "          duration   waiting\n",
       "duration  1.000000  0.900811\n",
       "waiting   0.900811  1.000000"
      ]
     },
     "execution_count": 6,
     "metadata": {},
     "output_type": "execute_result"
    }
   ],
   "source": [
    "geyser.corr()"
   ]
  },
  {
   "cell_type": "markdown",
   "metadata": {},
   "source": [
    "B) Write a sentence interpreting what we learn from the correlation coefficient.  (Hint:  What do we now know about the relationship between these variablbles?) "
   ]
  },
  {
   "cell_type": "markdown",
   "metadata": {},
   "source": [
    "<span style=\"color:red\">*There is a strong positive correlation between the duration of the geyser and how long between each geyser eruption.*</span>\n",
    "\n"
   ]
  },
  {
   "cell_type": "markdown",
   "metadata": {},
   "source": [
    "C) Why does the correlation coefficient make sense in the context of this data set?  (In other words, in terms of geyers, *why* would you expect to the correlation coefficient to be +/-, whatever you observed?)"
   ]
  },
  {
   "cell_type": "markdown",
   "metadata": {},
   "source": [
    "<span style=\"color:red\">*This is to be expected because the longer the time there is between eruptions the more pressure there is building up in the volcano and therefore the longer the eruption will last.*</span>"
   ]
  },
  {
   "cell_type": "markdown",
   "metadata": {},
   "source": [
    "---\n",
    "\n",
    "Look at that scatter plot again!  There are clearly 2 distinct groupings of points, one in the lower left (the ones where the euprtion time are short) and one in the upper right (the ones where the euprtion times are long).  \n",
    "\n",
    "Let's divide the points into the short eruptions (<= 3 minutes) and the long eruptions (above 3 minutes) and show our scatter plot as such.\n",
    "\n",
    "<img src=\"https://raw.githubusercontent.com/kathleen-ryan-DeSales/CS250/main/pictures/geyser_short_long.png\">"
   ]
  },
  {
   "cell_type": "markdown",
   "metadata": {},
   "source": [
    "---\n",
    "\n",
    "\n",
    "\n",
    "### **Question 4.**  \n",
    "\n",
    "A) Create 2 dataframes: one with all the rows for the short eruptions and one with the long eruptions."
   ]
  },
  {
   "cell_type": "code",
   "execution_count": 7,
   "metadata": {},
   "outputs": [
    {
     "data": {
      "text/plain": [
       "(97, 175, 272)"
      ]
     },
     "execution_count": 7,
     "metadata": {},
     "output_type": "execute_result"
    }
   ],
   "source": [
    "#Set the dataframes below accordingly\n",
    "short_eruptions = geyser['duration'] < 3\n",
    "short_eruptions = geyser[short_eruptions]\n",
    "long_eruptions = geyser['duration'] > 3\n",
    "long_eruptions = geyser[long_eruptions]\n",
    "\n",
    "#Sanity Check - First 2 should add to last\n",
    "len(short_eruptions), len(long_eruptions), len(geyser)"
   ]
  },
  {
   "cell_type": "markdown",
   "metadata": {},
   "source": [
    "B) Verify that the average duration of the short eruptions is about 2 min and the average of the long eruptions is about 4.3 min"
   ]
  },
  {
   "cell_type": "code",
   "execution_count": 8,
   "metadata": {},
   "outputs": [
    {
     "data": {
      "text/plain": [
       "(2.0381340206185565, 4.291302857142858)"
      ]
     },
     "execution_count": 8,
     "metadata": {},
     "output_type": "execute_result"
    }
   ],
   "source": [
    "short_mean_duration = short_eruptions['duration'].mean()\n",
    "long_mean_duration = long_eruptions['duration'].mean()\n",
    "\n",
    "short_mean_duration, long_mean_duration"
   ]
  },
  {
   "cell_type": "markdown",
   "metadata": {},
   "source": [
    "C) Create the scatter plot above where the short_eruptions are blue and the long_eruptions show in orange.\n",
    "\n",
    "To make the plot, you'll need this info.\n",
    "\n",
    " * A parameter of ```color = \"orange\"``` can be used with plt.scatter to change the color of the dots.\n",
    " * To place legends on a chart, we include a  ``label`` when calling ``plt.scatter`` (see example code below) and then we add ```plt.legend()``` to the end of the cell.\n",
    "     * ```plt.scatter(table['X_col'], table['Y_col'], label=\"Whatever I want the label to be\")```\n",
    " * To move the legend around the box, add the ``loc`` parameter to the ``plt.legend`` function with one of these values. <br/>For example, ```loc=`upper center` ``` or  ```loc=9``` could be used to position the legend in different locations on the plot.\n",
    " \n",
    " | Location String | Location Code |\n",
    "|:---------------:|:-------------:|\n",
    "|      'best'     |       0       |\n",
    "|  'upper right'  |       1       |\n",
    "|   'upper left'  |       2       |\n",
    "|   'lower left'  |       3       |\n",
    "|  'lower right'  |       4       |\n",
    "|     'right'     |       5       |\n",
    "|  'center left'  |       6       |\n",
    "|  'center right' |       7       |\n",
    "|  'lower center' |       8       |\n",
    "|  'upper center' |       9       |\n",
    "|     'center'    |       10      |"
   ]
  },
  {
   "cell_type": "code",
   "execution_count": 9,
   "metadata": {},
   "outputs": [
    {
     "data": {
      "image/png": "[encoded data removed]",
      "text/plain": [
       "<Figure size 432x288 with 1 Axes>"
      ]
     },
     "metadata": {
      "needs_background": "light"
     },
     "output_type": "display_data"
    }
   ],
   "source": [
    "#Your scatter plot code here.\n",
    "plt.scatter(short_eruptions['duration'], short_eruptions['waiting'], label='Short Eruptions (avg 2.0 min)', color = 'orange')\n",
    "plt.scatter(long_eruptions['duration'], long_eruptions['waiting'], label='Long Eruptions (avg 4.3 min)', color = 'blue')\n",
    "plt.xlabel('Duration')\n",
    "plt.ylabel('Waiting')\n",
    "plt.legend(loc='lower right');\n"
   ]
  },
  {
   "cell_type": "markdown",
   "metadata": {},
   "source": [
    "---\n",
    "\n",
    "### EMPIRICAL GUIDELINES - A REMINDER"
   ]
  },
  {
   "cell_type": "markdown",
   "metadata": {},
   "source": [
    "Below are 2 histograms that allows us to compare how much time passed before a short eruption and how much time passed before a long eruption.\n",
    "\n",
    "![C-3PO](https://raw.githubusercontent.com/kathleen-ryan-DeSales/CS250/main/pictures/DurationHist.png)"
   ]
  },
  {
   "cell_type": "markdown",
   "metadata": {},
   "source": [
    "\n",
    "Notice that for both distributions, the waiting times are relatively ``normal``, ie, bell-shaped and symmetric.\n",
    "\n",
    "Also, recall that you learned about standard deviation (SD) in class and how we can use SD to estimate typical/atypical values.\n",
    "\n",
    "Specifically, we discussed these guidelines (called the **Empirical Guidelines**) regarding approximately normal distributions.\n",
    "\n",
    "* Roughly 95\\% of data points fall within 2SDs of the mean, ie, within the interval below. We usually consider this interval to be the range ``typical values`` for the data set, and the 5% of remaining values are consider unusual/extreme.\n",
    "\n",
    "$$(mean - 2*SD, mean + 2*SD)$$, \n",
    "\n",
    "* Whereas the above interval are the typical values, almost ALL points (including both typical/atypical values) fall in this interval.\n",
    "\n",
    "$$(mean - 3*SD, mean + 3*SD)$$, \n",
    "\n",
    "We will use these facts in the next section.\n",
    "\n",
    "---\n",
    "\n",
    "### **Question 5.**  \n",
    "\n",
    "A)  Find the mean and standard deviation for the wait times of the short duration geyser eruptions using the ``describe`` function."
   ]
  },
  {
   "cell_type": "code",
   "execution_count": 10,
   "metadata": {},
   "outputs": [
    {
     "data": {
      "text/html": [
       "<div>\n",
       "<style scoped>\n",
       "    .dataframe tbody tr th:only-of-type {\n",
       "        vertical-align: middle;\n",
       "    }\n",
       "\n",
       "    .dataframe tbody tr th {\n",
       "        vertical-align: top;\n",
       "    }\n",
       "\n",
       "    .dataframe thead th {\n",
       "        text-align: right;\n",
       "    }\n",
       "</style>\n",
       "<table border=\"1\" class=\"dataframe\">\n",
       "  <thead>\n",
       "    <tr style=\"text-align: right;\">\n",
       "      <th></th>\n",
       "      <th>duration</th>\n",
       "      <th>waiting</th>\n",
       "    </tr>\n",
       "  </thead>\n",
       "  <tbody>\n",
       "    <tr>\n",
       "      <th>count</th>\n",
       "      <td>97.000000</td>\n",
       "      <td>97.000000</td>\n",
       "    </tr>\n",
       "    <tr>\n",
       "      <th>mean</th>\n",
       "      <td>2.038134</td>\n",
       "      <td>54.494845</td>\n",
       "    </tr>\n",
       "    <tr>\n",
       "      <th>std</th>\n",
       "      <td>0.266865</td>\n",
       "      <td>5.840098</td>\n",
       "    </tr>\n",
       "    <tr>\n",
       "      <th>min</th>\n",
       "      <td>1.600000</td>\n",
       "      <td>43.000000</td>\n",
       "    </tr>\n",
       "    <tr>\n",
       "      <th>25%</th>\n",
       "      <td>1.833000</td>\n",
       "      <td>50.000000</td>\n",
       "    </tr>\n",
       "    <tr>\n",
       "      <th>50%</th>\n",
       "      <td>1.983000</td>\n",
       "      <td>54.000000</td>\n",
       "    </tr>\n",
       "    <tr>\n",
       "      <th>75%</th>\n",
       "      <td>2.200000</td>\n",
       "      <td>59.000000</td>\n",
       "    </tr>\n",
       "    <tr>\n",
       "      <th>max</th>\n",
       "      <td>2.900000</td>\n",
       "      <td>71.000000</td>\n",
       "    </tr>\n",
       "  </tbody>\n",
       "</table>\n",
       "</div>"
      ],
      "text/plain": [
       "        duration    waiting\n",
       "count  97.000000  97.000000\n",
       "mean    2.038134  54.494845\n",
       "std     0.266865   5.840098\n",
       "min     1.600000  43.000000\n",
       "25%     1.833000  50.000000\n",
       "50%     1.983000  54.000000\n",
       "75%     2.200000  59.000000\n",
       "max     2.900000  71.000000"
      ]
     },
     "execution_count": 10,
     "metadata": {},
     "output_type": "execute_result"
    }
   ],
   "source": [
    "#Put the code for the describe function here and store the returned table in short_eruptions_stats.\n",
    "short_eruptions.describe()"
   ]
  },
  {
   "cell_type": "markdown",
   "metadata": {},
   "source": [
    "<br/><br/>\n",
    "\n",
    "B) Now find the lower and upper bounds of typical waiting times for a short geyser eruption, ie, the interval corresponding to 2SDs from the mean."
   ]
  },
  {
   "cell_type": "code",
   "execution_count": 11,
   "metadata": {},
   "outputs": [
    {
     "data": {
      "text/plain": [
       "(42.814648999999996, 66.175041)"
      ]
     },
     "execution_count": 11,
     "metadata": {},
     "output_type": "execute_result"
    }
   ],
   "source": [
    "lower = 54.494845-11.680196\n",
    "upper = 54.494845+11.680196\n",
    "\n",
    "lower, upper"
   ]
  },
  {
   "cell_type": "markdown",
   "metadata": {},
   "source": [
    "**INTEPRETATION/RIGHT ANSWER:**  \n",
    "\n",
    "Assuming our data is a nice representative data set for geyser eruptions, then your answer to this question can be interpreted as such:  \n",
    "\n",
    "Typically a person will wait 42.81 min to 66.18 minutes for an eruption, provided it is a short eruption."
   ]
  },
  {
   "cell_type": "markdown",
   "metadata": {},
   "source": [
    "<br/>\n",
    "\n",
    "<br/>\n",
    "\n",
    "C) Per the empirical guidelines, we'd expect about 5\\% of our short eruptions to require an atpyical wait time.  What percentage of our ``short_eruptions`` data are considered **ATYPICAL**, based on the interval above?\n",
    "\n",
    "Use the variables ``lower`` and ``upper`` to do this of course!"
   ]
  },
  {
   "cell_type": "code",
   "execution_count": 27,
   "metadata": {},
   "outputs": [
    {
     "data": {
      "text/html": [
       "<div>\n",
       "<style scoped>\n",
       "    .dataframe tbody tr th:only-of-type {\n",
       "        vertical-align: middle;\n",
       "    }\n",
       "\n",
       "    .dataframe tbody tr th {\n",
       "        vertical-align: top;\n",
       "    }\n",
       "\n",
       "    .dataframe thead th {\n",
       "        text-align: right;\n",
       "    }\n",
       "</style>\n",
       "<table border=\"1\" class=\"dataframe\">\n",
       "  <thead>\n",
       "    <tr style=\"text-align: right;\">\n",
       "      <th></th>\n",
       "      <th>duration</th>\n",
       "      <th>waiting</th>\n",
       "    </tr>\n",
       "  </thead>\n",
       "  <tbody>\n",
       "  </tbody>\n",
       "</table>\n",
       "</div>"
      ],
      "text/plain": [
       "Empty DataFrame\n",
       "Columns: [duration, waiting]\n",
       "Index: []"
      ]
     },
     "execution_count": 27,
     "metadata": {},
     "output_type": "execute_result"
    }
   ],
   "source": [
    "lower_atypical = short_eruptions['waiting'] < lower\n",
    "lower_atypical = short_eruptions[lower_atypical]\n",
    "lower_atypical"
   ]
  },
  {
   "cell_type": "markdown",
   "metadata": {},
   "source": [
    "Click here for the **answer**.\n",
    "\n",
    "<!--The answer is 2.06185567%, if you do this correctly.  -->"
   ]
  },
  {
   "cell_type": "markdown",
   "metadata": {},
   "source": [
    "<br/>\n",
    "\n",
    "<br/>\n",
    "\n",
    "### **Question 6.**  \n",
    "\n",
    "Now find how long someone will typicall be waiting for a long geyser eruption. So repeat the process above but for long geyser eruptions."
   ]
  },
  {
   "cell_type": "code",
   "execution_count": 30,
   "metadata": {},
   "outputs": [
    {
     "data": {
      "text/html": [
       "<div>\n",
       "<style scoped>\n",
       "    .dataframe tbody tr th:only-of-type {\n",
       "        vertical-align: middle;\n",
       "    }\n",
       "\n",
       "    .dataframe tbody tr th {\n",
       "        vertical-align: top;\n",
       "    }\n",
       "\n",
       "    .dataframe thead th {\n",
       "        text-align: right;\n",
       "    }\n",
       "</style>\n",
       "<table border=\"1\" class=\"dataframe\">\n",
       "  <thead>\n",
       "    <tr style=\"text-align: right;\">\n",
       "      <th></th>\n",
       "      <th>duration</th>\n",
       "      <th>waiting</th>\n",
       "    </tr>\n",
       "  </thead>\n",
       "  <tbody>\n",
       "    <tr>\n",
       "      <th>count</th>\n",
       "      <td>175.000000</td>\n",
       "      <td>175.000000</td>\n",
       "    </tr>\n",
       "    <tr>\n",
       "      <th>mean</th>\n",
       "      <td>4.291303</td>\n",
       "      <td>79.988571</td>\n",
       "    </tr>\n",
       "    <tr>\n",
       "      <th>std</th>\n",
       "      <td>0.410852</td>\n",
       "      <td>5.994239</td>\n",
       "    </tr>\n",
       "    <tr>\n",
       "      <th>min</th>\n",
       "      <td>3.067000</td>\n",
       "      <td>64.000000</td>\n",
       "    </tr>\n",
       "    <tr>\n",
       "      <th>25%</th>\n",
       "      <td>4.033000</td>\n",
       "      <td>76.000000</td>\n",
       "    </tr>\n",
       "    <tr>\n",
       "      <th>50%</th>\n",
       "      <td>4.333000</td>\n",
       "      <td>80.000000</td>\n",
       "    </tr>\n",
       "    <tr>\n",
       "      <th>75%</th>\n",
       "      <td>4.583000</td>\n",
       "      <td>84.000000</td>\n",
       "    </tr>\n",
       "    <tr>\n",
       "      <th>max</th>\n",
       "      <td>5.100000</td>\n",
       "      <td>96.000000</td>\n",
       "    </tr>\n",
       "  </tbody>\n",
       "</table>\n",
       "</div>"
      ],
      "text/plain": [
       "         duration     waiting\n",
       "count  175.000000  175.000000\n",
       "mean     4.291303   79.988571\n",
       "std      0.410852    5.994239\n",
       "min      3.067000   64.000000\n",
       "25%      4.033000   76.000000\n",
       "50%      4.333000   80.000000\n",
       "75%      4.583000   84.000000\n",
       "max      5.100000   96.000000"
      ]
     },
     "execution_count": 30,
     "metadata": {},
     "output_type": "execute_result"
    }
   ],
   "source": [
    "long_eruptions.describe()"
   ]
  },
  {
   "cell_type": "code",
   "execution_count": 32,
   "metadata": {},
   "outputs": [
    {
     "name": "stdout",
     "output_type": "stream",
     "text": [
      "For longer eruptions, someone will typically be waiting from 68.00009299999999-91.977049 min.\n"
     ]
    }
   ],
   "source": [
    "#More code as needed here.\n",
    "\n",
    "#Be sure to set the values below to the lower/upper values in the typical range by setting the values below.\n",
    "lower_long = 79.988571 - 11.988478\n",
    "upper_long = 79.988571 + 11.988478\n",
    "\n",
    "print(f\"For longer eruptions, someone will typically be waiting from {lower_long}-{upper_long} min.\")"
   ]
  },
  {
   "cell_type": "markdown",
   "metadata": {},
   "source": [
    "---\n",
    "\n",
    "<br/>\n",
    "<br/>\n",
    "<br/>\n",
    "\n",
    "### **Question 7.** \n",
    "\n",
    "Let's see how varied this data is from eruption to eruption.  We'll look at the increases and decreases between waiting times.\n",
    "\n",
    "Assign `biggest_decrease` and `biggest_increase`  to the biggest decrease/increase in waiting time between two consecutive eruptions. For example, the third eruption occurred after 74 minutes and the fourth occured after 62 minutes, so the decrease in waiting time was 74 - 62 = 12 minutes. \n",
    "\n",
    "*Hint*: You'll need to use ``np.diff`` to do this which is [mentioned in the textbook](https://www.inferentialthinking.com/chapters/05/1/arrays.html#Functions-on-Arrays).\n",
    "\n",
    "*Hint 2*: Neither answer should be given as a negative."
   ]
  },
  {
   "cell_type": "code",
   "execution_count": 36,
   "metadata": {},
   "outputs": [
    {
     "data": {
      "text/plain": [
       "(41.017, 90.9)"
      ]
     },
     "execution_count": 36,
     "metadata": {},
     "output_type": "execute_result"
    }
   ],
   "source": [
    "biggest_decrease = np.diff(geyser, n=1, axis=-1).min()\n",
    "biggest_increase = np.diff(geyser, n=1, axis=-1).max()\n",
    "biggest_decrease, biggest_increase"
   ]
  },
  {
   "cell_type": "markdown",
   "metadata": {},
   "source": [
    "---\n",
    "<br/>\n",
    "<br/>\n",
    "<br/>\n",
    "\n",
    "### **Question 8.** \n",
    "\n",
    "If you expected Old Faithful to erupt every hour, you would expect to wait a total of `60 * k` minutes to see `k` eruptions. Set `difference_from_expected` to an array with 272 elements, where the element at index `i` is the absolute difference between the expected and actual total amount of waiting time to see the first `i+1` eruptions.  *Hint*: You'll need to compare a cumulative sum to a range.\n",
    "\n",
    "For example, since the first three waiting times are 79, 54, and 74, the total waiting time for 3 eruptions is 79 + 54 + 74 = 207. The expected waiting time for 3 eruptions is 60 * 3 = 180. Therefore, the value of `difference_from_expected` in the row with index 2 should be $|207 - 180| = 27$.\n",
    "\n",
    "* To get started, create a column called ```\"expected\"``` that is set to the expected time. as discussed above.  (Note:  Depending on how you do this, you may find it helpful to access the index of each row which can be done via ```geyser.index```.  This will help you with ```k```.  But there are many other ways to do it too.)\n",
    "\n",
    "* Then create a column called ```\"cumul waiting time\"``` using the cumulative sum function that was mentioned in class a few times and is [mentioned in the textbook at the bottom of this page](https://inferentialthinking.com/chapters/05/1/Arrays.html).  Look for the right  one!\n",
    "\n",
    "* Finally, create a column called ```difference from expected``` that calculates the difference. \n",
    "\n",
    "*HINT: The expected difference in the final row should be 2964 if you do this correctly.*\n",
    "\n",
    "|     | duration | waiting | expected | cumul waiting time | difference from expected |\n",
    "|----:|---------:|--------:|---------:|-------------------:|-------------------------:|\n",
    "|   0 |    3.600 |      79 |       60 |                 79 | 19                       |\n",
    "|   1 |    1.800 |      54 |      120 |                133 | 13                       |\n",
    "|   2 |    3.333 |      74 |      180 |                207 | 27                       |\n",
    "|   3 |    2.283 |      62 |      240 |                269 | 29                       |\n",
    "|   4 |    4.533 |      85 |      300 |                354 | 54                       |\n",
    "| ... |      ... |     ... |      ... |                ... | ...                      |\n",
    "| 267 |    4.117 |      81 |    16080 |              19028 | 2948                     |\n",
    "| 268 |    2.150 |      46 |    16140 |              19074 | 2934                     |\n",
    "| 269 |    4.417 |      90 |    16200 |              19164 | 2964                     |\n",
    "| 270 |    1.817 |      46 |    16260 |              19210 | 2950                     |\n",
    "| 271 |    4.467 |      74 |    16320 |              19284 | 2964                     |\n",
    "\n",
    "A) Follow the directions to build the table above."
   ]
  },
  {
   "cell_type": "code",
   "execution_count": 50,
   "metadata": {},
   "outputs": [
    {
     "data": {
      "text/html": [
       "<div>\n",
       "<style scoped>\n",
       "    .dataframe tbody tr th:only-of-type {\n",
       "        vertical-align: middle;\n",
       "    }\n",
       "\n",
       "    .dataframe tbody tr th {\n",
       "        vertical-align: top;\n",
       "    }\n",
       "\n",
       "    .dataframe thead th {\n",
       "        text-align: right;\n",
       "    }\n",
       "</style>\n",
       "<table border=\"1\" class=\"dataframe\">\n",
       "  <thead>\n",
       "    <tr style=\"text-align: right;\">\n",
       "      <th></th>\n",
       "      <th>duration</th>\n",
       "      <th>waiting</th>\n",
       "      <th>expected</th>\n",
       "      <th>cumul waiting time</th>\n",
       "      <th>difference from expected</th>\n",
       "    </tr>\n",
       "  </thead>\n",
       "  <tbody>\n",
       "    <tr>\n",
       "      <th>0</th>\n",
       "      <td>3.600</td>\n",
       "      <td>79</td>\n",
       "      <td>60</td>\n",
       "      <td>79</td>\n",
       "      <td>19</td>\n",
       "    </tr>\n",
       "    <tr>\n",
       "      <th>1</th>\n",
       "      <td>1.800</td>\n",
       "      <td>54</td>\n",
       "      <td>120</td>\n",
       "      <td>133</td>\n",
       "      <td>13</td>\n",
       "    </tr>\n",
       "    <tr>\n",
       "      <th>2</th>\n",
       "      <td>3.333</td>\n",
       "      <td>74</td>\n",
       "      <td>180</td>\n",
       "      <td>207</td>\n",
       "      <td>27</td>\n",
       "    </tr>\n",
       "    <tr>\n",
       "      <th>3</th>\n",
       "      <td>2.283</td>\n",
       "      <td>62</td>\n",
       "      <td>240</td>\n",
       "      <td>269</td>\n",
       "      <td>29</td>\n",
       "    </tr>\n",
       "    <tr>\n",
       "      <th>4</th>\n",
       "      <td>4.533</td>\n",
       "      <td>85</td>\n",
       "      <td>300</td>\n",
       "      <td>354</td>\n",
       "      <td>54</td>\n",
       "    </tr>\n",
       "    <tr>\n",
       "      <th>...</th>\n",
       "      <td>...</td>\n",
       "      <td>...</td>\n",
       "      <td>...</td>\n",
       "      <td>...</td>\n",
       "      <td>...</td>\n",
       "    </tr>\n",
       "    <tr>\n",
       "      <th>267</th>\n",
       "      <td>4.117</td>\n",
       "      <td>81</td>\n",
       "      <td>16080</td>\n",
       "      <td>19028</td>\n",
       "      <td>2948</td>\n",
       "    </tr>\n",
       "    <tr>\n",
       "      <th>268</th>\n",
       "      <td>2.150</td>\n",
       "      <td>46</td>\n",
       "      <td>16140</td>\n",
       "      <td>19074</td>\n",
       "      <td>2934</td>\n",
       "    </tr>\n",
       "    <tr>\n",
       "      <th>269</th>\n",
       "      <td>4.417</td>\n",
       "      <td>90</td>\n",
       "      <td>16200</td>\n",
       "      <td>19164</td>\n",
       "      <td>2964</td>\n",
       "    </tr>\n",
       "    <tr>\n",
       "      <th>270</th>\n",
       "      <td>1.817</td>\n",
       "      <td>46</td>\n",
       "      <td>16260</td>\n",
       "      <td>19210</td>\n",
       "      <td>2950</td>\n",
       "    </tr>\n",
       "    <tr>\n",
       "      <th>271</th>\n",
       "      <td>4.467</td>\n",
       "      <td>74</td>\n",
       "      <td>16320</td>\n",
       "      <td>19284</td>\n",
       "      <td>2964</td>\n",
       "    </tr>\n",
       "  </tbody>\n",
       "</table>\n",
       "<p>272 rows × 5 columns</p>\n",
       "</div>"
      ],
      "text/plain": [
       "     duration  waiting  expected  cumul waiting time  difference from expected\n",
       "0       3.600       79        60                  79                        19\n",
       "1       1.800       54       120                 133                        13\n",
       "2       3.333       74       180                 207                        27\n",
       "3       2.283       62       240                 269                        29\n",
       "4       4.533       85       300                 354                        54\n",
       "..        ...      ...       ...                 ...                       ...\n",
       "267     4.117       81     16080               19028                      2948\n",
       "268     2.150       46     16140               19074                      2934\n",
       "269     4.417       90     16200               19164                      2964\n",
       "270     1.817       46     16260               19210                      2950\n",
       "271     4.467       74     16320               19284                      2964\n",
       "\n",
       "[272 rows x 5 columns]"
      ]
     },
     "execution_count": 50,
     "metadata": {},
     "output_type": "execute_result"
    }
   ],
   "source": [
    "geyser\n",
    "geyser['expected'] = (60 * (geyser.index + 1))\n",
    "geyser['cumul waiting time'] = np.cumsum(geyser['waiting'])\n",
    "geyser['difference from expected'] = abs(geyser['cumul waiting time'] - geyser['expected'])\n",
    "geyser"
   ]
  },
  {
   "cell_type": "code",
   "execution_count": 15,
   "metadata": {},
   "outputs": [
    {
     "data": {
      "text/plain": [
       "Ellipsis"
      ]
     },
     "execution_count": 15,
     "metadata": {},
     "output_type": "execute_result"
    }
   ],
   "source": [
    "#Your code here\n",
    "\n",
    "\n",
    "#Set this variable appropriately\n",
    "difference_from_expected = ...\n",
    "difference_from_expected"
   ]
  },
  {
   "cell_type": "markdown",
   "metadata": {},
   "source": [
    "B)  By the final eruption, How \"off\" would we be in minutes if you estimated that it erupts about once an hour?"
   ]
  },
  {
   "cell_type": "markdown",
   "metadata": {},
   "source": [
    "<span style=\"color:red\">*2904 minutes*</span>"
   ]
  },
  {
   "cell_type": "markdown",
   "metadata": {},
   "source": [
    "---\n",
    "\n",
    "### **Question 9.** \n",
    "\n",
    "If instead you guess that each waiting time will be the same as the previous waiting time, how many minutes would your guess differ from the actual time, averaging over every wait time except the first one?\n",
    "\n",
    "For example, since the first three waiting times are 79, 54, and 74, the average difference between your guess and the actual time for just the second and third eruption would be $\\frac{|79-54|+ |54-74|}{2} = 22.5$.\n",
    "\n",
    "* *Hint: Your final answer should round to 20.5203 if you do this right.*\n",
    "\n",
    "* *Hint: There is a function that takes the difference between consecutive rows, and we have mentioned it in class a few times.  In case you forgot, it is [mentioned in the textbook at the bottom of this page](https://inferentialthinking.com/chapters/05/1/Arrays.html).  Look for it!*"
   ]
  },
  {
   "cell_type": "code",
   "execution_count": 69,
   "metadata": {},
   "outputs": [
    {
     "data": {
      "text/plain": [
       "20.52029520295203"
      ]
     },
     "execution_count": 69,
     "metadata": {},
     "output_type": "execute_result"
    }
   ],
   "source": [
    "diff = abs(np.diff(geyser['waiting'])).mean()\n",
    "diff"
   ]
  },
  {
   "cell_type": "code",
   "execution_count": 70,
   "metadata": {},
   "outputs": [
    {
     "data": {
      "text/plain": [
       "20.52029520295203"
      ]
     },
     "execution_count": 70,
     "metadata": {},
     "output_type": "execute_result"
    }
   ],
   "source": [
    "#Take the differences between the consecutive rows in the waiting column,\n",
    "#   find their absolute values, and then average them.\n",
    "#Make sure this var is set to your final answer:\n",
    "average_error = diff\n",
    "average_error"
   ]
  },
  {
   "cell_type": "markdown",
   "metadata": {},
   "source": [
    "---\n",
    "\n",
    "### **Question 10.** \n",
    "\n",
    "Let's not forget about line graphs!  \n",
    "\n",
    "Download the last year's worth of apple and mircrosoft data at the website below.  The names of your files should be \"AAPL.csv\" and \"MSFT.csv\".  \n",
    "\n",
    "* https://finance.yahoo.com/\n",
    "* Here's a  video if you need help on how to do this: https://desales.hosted.panopto.com/Panopto/Pages/Viewer.aspx?id=cfcd461b-973c-4b2c-91ce-adbb0120ea12\n",
    "\n",
    "\n",
    "A) Load in the csv's.  Use ``parse_dates`` for the \"Date\" Column to signify that the \"Date\" column contains dates.\n"
   ]
  },
  {
   "cell_type": "code",
   "execution_count": 73,
   "metadata": {},
   "outputs": [],
   "source": [
    "#code \n",
    "aapl = pd.read_csv(\"AAPL.csv\")\n",
    "msft = pd.read_csv(\"MSFT.csv\")"
   ]
  },
  {
   "cell_type": "markdown",
   "metadata": {},
   "source": [
    "B) Plot the apple and mcirosfot closing stock prices stock on the same line graph.\n",
    "\n",
    "Be sure to:\n",
    "    \n",
    "* Label your axes and give a title\n",
    "* Make the figure size wide\n",
    "* include a legend"
   ]
  },
  {
   "cell_type": "code",
   "execution_count": 93,
   "metadata": {},
   "outputs": [
    {
     "data": {
      "image/png": "[encoded data removed]",
      "text/plain": [
       "<Figure size 432x288 with 1 Axes>"
      ]
     },
     "metadata": {
      "needs_background": "light"
     },
     "output_type": "display_data"
    },
    {
     "data": {
      "text/plain": [
       "<Figure size 1440x360 with 0 Axes>"
      ]
     },
     "metadata": {},
     "output_type": "display_data"
    }
   ],
   "source": [
    "#Code for plot here.\n",
    "plt.plot(msft['Date'], msft['Close'], label='Microsoft', color = 'orange')\n",
    "plt.plot(aapl['Date'], aapl['Close'], label='Apple', color = 'blue')\n",
    "plt.ylabel('Price')\n",
    "plt.legend(loc='lower right')\n",
    "plt.figure(figsize=(20,5));"
   ]
  },
  {
   "cell_type": "markdown",
   "metadata": {},
   "source": [
    "C) Which company seems to be doing better?  Why?"
   ]
  },
  {
   "cell_type": "markdown",
   "metadata": {},
   "source": [
    "<span style=\"color:red\">*Both stocks seem to be doing roughly the samae in terms of performance, which is likely due to the fact that they are both massive tech companies and what affects one strongly affects the other.*</span>"
   ]
  },
  {
   "cell_type": "markdown",
   "metadata": {},
   "source": [
    "---\n",
    "\n",
    "### **Question 11.** \n",
    "\n",
    "Find the rolling averages of both company's closing stock values over the last year.  Create a line graph of these rolling averges.  Do not include the actual closing price of the stocks on your graph, but just the rolling average of the closing stock values.\n",
    "\n",
    "As before, be sure to:\n",
    "    \n",
    "* Label your axes and give a title\n",
    "* Make the figure size wide\n",
    "* include a legend"
   ]
  },
  {
   "cell_type": "code",
   "execution_count": 92,
   "metadata": {},
   "outputs": [
    {
     "data": {
      "image/png": "[encoded data removed]",
      "text/plain": [
       "<Figure size 432x288 with 1 Axes>"
      ]
     },
     "metadata": {
      "needs_background": "light"
     },
     "output_type": "display_data"
    },
    {
     "data": {
      "text/plain": [
       "<Figure size 1440x360 with 0 Axes>"
      ]
     },
     "metadata": {},
     "output_type": "display_data"
    }
   ],
   "source": [
    "#Code here\n",
    "msft['Rolling Average'] = msft['Close'].rolling(10).mean()\n",
    "aapl['Rolling Average'] = aapl['Close'].rolling(10).mean()\n",
    "plt.plot(msft['Date'], msft['Rolling Average'], label='Microsoft', color = 'orange')\n",
    "plt.plot(aapl['Date'], aapl['Rolling Average'], label='Apple', color = 'blue')\n",
    "plt.ylabel('Price')\n",
    "plt.legend(loc='lower right')\n",
    "plt.figure(figsize=(20,5));"
   ]
  },
  {
   "cell_type": "markdown",
   "metadata": {},
   "source": [
    "---\n",
    "\n",
    "### Note: Crazy back and forth line graphs are not helpful."
   ]
  },
  {
   "cell_type": "markdown",
   "metadata": {},
   "source": [
    "Sometimes, students give me crazy lie graphs on their projects, so let's prevent that problem with this example.\n",
    "\n",
    "NOTE: \n",
    "\n",
    "* If you have 2 data points with the same x value, then a line graph would not be appropriate, unless you were drawing a different line through each.  \n",
    "\n",
    "Run the code below to see what I mean.  Notice the line plot is busy and the lines don't provide any trend information."
   ]
  },
  {
   "cell_type": "code",
   "execution_count": 94,
   "metadata": {},
   "outputs": [
    {
     "data": {
      "text/plain": [
       "Text(0.5, 1.0, 'This scatterplot on the same dataset is okay though.')"
      ]
     },
     "execution_count": 94,
     "metadata": {},
     "output_type": "execute_result"
    },
    {
     "data": {
      "image/png": "[encoded data removed]",
      "text/plain": [
       "<Figure size 720x360 with 2 Axes>"
      ]
     },
     "metadata": {
      "needs_background": "light"
     },
     "output_type": "display_data"
    }
   ],
   "source": [
    "#Run to see an example\n",
    "\n",
    "#Making up data\n",
    "table = pd.DataFrame()\n",
    "table[\"X\"] = np.array([3, 8, 5, 7, 3, 9, 9, 2, 6, 6]) \n",
    "table[\"Y\"] = np.array([4, 7, 4, 7, 9, 4, 3, 3, 2, 1])\n",
    "table\n",
    "\n",
    "#Getting ready to plot two plots side by side\n",
    "fig, (ax1, ax2) = plt.subplots(1, 2, figsize=(10,5))\n",
    "fig.suptitle('Comparing Line vs Scatter')\n",
    "\n",
    "#Plotting left plot\n",
    "ax1.plot(table[\"X\"], table[\"Y\"], marker = 'o')\n",
    "ax1.set_title(\"How ugly and confusing - X values repeat\")\n",
    "\n",
    "#Plotting right plot\n",
    "ax2.scatter(table[\"X\"], table[\"Y\"])\n",
    "ax2.set_title(\"This scatterplot on the same dataset is okay though.\")"
   ]
  },
  {
   "cell_type": "markdown",
   "metadata": {},
   "source": [
    "Hopefully you agree that the left plot is just busy and not something we can learn from.\n",
    "\n",
    "\n",
    "## ASK GOOD QUESTIONS\n",
    "\n",
    "We can use scatterplots and line graphs to ask good questions:\n",
    "\n",
    "* Scatterplots are one good way to start assesing questions like **\"Is there a relationship between X and Y?\"**  \n",
    "\n",
    "* Related to the previous bullet point, correlation coefficients specifically help us determine: **\"Is there a correlation (so a linear relationship) between X and Y?\"**\n",
    "\n",
    "* On the other hand, **a line graph shows the nature of a relationship, not whether there is a relationship or not between two sets of data**. For example, they can be used to instantly see the ‘journey’ made by a variable over time or by a variable as the other is changing.\n",
    "\n",
    "Let's apply these ideas to the Employee data.\n",
    "\n",
    "## A blast from the past: EMPLOYEE DATA\n",
    "\n",
    "Recall the dataset you looked at in which the company that generated the dataset was trying to understand employee satisfcation and retention.  \n",
    "\n",
    "Import it by running the cell below.  Here 's an xplanation of variables/headers:\n",
    "\n",
    "* **employee_id**                  \n",
    "* **satisfaction_level**:                       A score rating how satisfied the employee was with the company (scale 0-1)        \n",
    "* **last_evaluation_score**:               A score from 0-1 rating the person's performance\n",
    "* **number_of_projects**:                 Number of projects the person was assigned to        \n",
    "* **average_monthly_hours**:          The average hours the person worked per month        \n",
    "* **years_spent_at_company**:        \n",
    "* **work_accident**:                           \n",
    "    * 0: No accident   \n",
    "    * 1: The person was in an accident\n",
    "* **left_company**                              \n",
    "    * 0: Did not leave company    \n",
    "    * 1: Did leave company        \n",
    "* **promotion_in_last_5years**       \n",
    "    * 0: Not promoted over last 5 years   \n",
    "    * 1: Was promoted\n",
    "* **department**       \n",
    "* **salary:**                                          high medium or low based on the groups in salary_range\n",
    "* **salary_range:**                              \n",
    "    * less than 45,000\n",
    "    * 45000-74999 \n",
    "    * 75000 or more"
   ]
  },
  {
   "cell_type": "code",
   "execution_count": 95,
   "metadata": {},
   "outputs": [
    {
     "data": {
      "text/html": [
       "<div>\n",
       "<style scoped>\n",
       "    .dataframe tbody tr th:only-of-type {\n",
       "        vertical-align: middle;\n",
       "    }\n",
       "\n",
       "    .dataframe tbody tr th {\n",
       "        vertical-align: top;\n",
       "    }\n",
       "\n",
       "    .dataframe thead th {\n",
       "        text-align: right;\n",
       "    }\n",
       "</style>\n",
       "<table border=\"1\" class=\"dataframe\">\n",
       "  <thead>\n",
       "    <tr style=\"text-align: right;\">\n",
       "      <th></th>\n",
       "      <th>employee_id</th>\n",
       "      <th>satisfaction_level</th>\n",
       "      <th>last_evaluation_score</th>\n",
       "      <th>number_of_projects</th>\n",
       "      <th>average_monthly_hours</th>\n",
       "      <th>years_spent_at_company</th>\n",
       "      <th>work_accident</th>\n",
       "      <th>left_company</th>\n",
       "      <th>promotion_in_last_5years</th>\n",
       "      <th>department</th>\n",
       "      <th>salary</th>\n",
       "      <th>salary_range</th>\n",
       "    </tr>\n",
       "  </thead>\n",
       "  <tbody>\n",
       "    <tr>\n",
       "      <th>0</th>\n",
       "      <td>1</td>\n",
       "      <td>0.38</td>\n",
       "      <td>0.53</td>\n",
       "      <td>2</td>\n",
       "      <td>157</td>\n",
       "      <td>3</td>\n",
       "      <td>0</td>\n",
       "      <td>1</td>\n",
       "      <td>0</td>\n",
       "      <td>sales</td>\n",
       "      <td>low</td>\n",
       "      <td>Less than $45,000</td>\n",
       "    </tr>\n",
       "    <tr>\n",
       "      <th>1</th>\n",
       "      <td>2</td>\n",
       "      <td>0.80</td>\n",
       "      <td>0.86</td>\n",
       "      <td>5</td>\n",
       "      <td>262</td>\n",
       "      <td>6</td>\n",
       "      <td>0</td>\n",
       "      <td>1</td>\n",
       "      <td>0</td>\n",
       "      <td>sales</td>\n",
       "      <td>medium</td>\n",
       "      <td>$45,000 - $74,999</td>\n",
       "    </tr>\n",
       "    <tr>\n",
       "      <th>2</th>\n",
       "      <td>3</td>\n",
       "      <td>0.11</td>\n",
       "      <td>0.88</td>\n",
       "      <td>7</td>\n",
       "      <td>272</td>\n",
       "      <td>4</td>\n",
       "      <td>0</td>\n",
       "      <td>1</td>\n",
       "      <td>0</td>\n",
       "      <td>sales</td>\n",
       "      <td>medium</td>\n",
       "      <td>$45,000 - $74,999</td>\n",
       "    </tr>\n",
       "    <tr>\n",
       "      <th>3</th>\n",
       "      <td>4</td>\n",
       "      <td>0.72</td>\n",
       "      <td>0.87</td>\n",
       "      <td>5</td>\n",
       "      <td>223</td>\n",
       "      <td>5</td>\n",
       "      <td>0</td>\n",
       "      <td>1</td>\n",
       "      <td>0</td>\n",
       "      <td>sales</td>\n",
       "      <td>low</td>\n",
       "      <td>Less than $45,000</td>\n",
       "    </tr>\n",
       "    <tr>\n",
       "      <th>4</th>\n",
       "      <td>5</td>\n",
       "      <td>0.37</td>\n",
       "      <td>0.52</td>\n",
       "      <td>2</td>\n",
       "      <td>159</td>\n",
       "      <td>3</td>\n",
       "      <td>0</td>\n",
       "      <td>1</td>\n",
       "      <td>0</td>\n",
       "      <td>sales</td>\n",
       "      <td>low</td>\n",
       "      <td>Less than $45,000</td>\n",
       "    </tr>\n",
       "    <tr>\n",
       "      <th>...</th>\n",
       "      <td>...</td>\n",
       "      <td>...</td>\n",
       "      <td>...</td>\n",
       "      <td>...</td>\n",
       "      <td>...</td>\n",
       "      <td>...</td>\n",
       "      <td>...</td>\n",
       "      <td>...</td>\n",
       "      <td>...</td>\n",
       "      <td>...</td>\n",
       "      <td>...</td>\n",
       "      <td>...</td>\n",
       "    </tr>\n",
       "    <tr>\n",
       "      <th>14995</th>\n",
       "      <td>14996</td>\n",
       "      <td>0.37</td>\n",
       "      <td>0.48</td>\n",
       "      <td>2</td>\n",
       "      <td>160</td>\n",
       "      <td>3</td>\n",
       "      <td>0</td>\n",
       "      <td>1</td>\n",
       "      <td>0</td>\n",
       "      <td>support</td>\n",
       "      <td>low</td>\n",
       "      <td>Less than $45,000</td>\n",
       "    </tr>\n",
       "    <tr>\n",
       "      <th>14996</th>\n",
       "      <td>14997</td>\n",
       "      <td>0.37</td>\n",
       "      <td>0.53</td>\n",
       "      <td>2</td>\n",
       "      <td>143</td>\n",
       "      <td>3</td>\n",
       "      <td>0</td>\n",
       "      <td>1</td>\n",
       "      <td>0</td>\n",
       "      <td>support</td>\n",
       "      <td>low</td>\n",
       "      <td>Less than $45,000</td>\n",
       "    </tr>\n",
       "    <tr>\n",
       "      <th>14997</th>\n",
       "      <td>14998</td>\n",
       "      <td>0.11</td>\n",
       "      <td>0.96</td>\n",
       "      <td>6</td>\n",
       "      <td>280</td>\n",
       "      <td>4</td>\n",
       "      <td>0</td>\n",
       "      <td>1</td>\n",
       "      <td>0</td>\n",
       "      <td>support</td>\n",
       "      <td>low</td>\n",
       "      <td>Less than $45,000</td>\n",
       "    </tr>\n",
       "    <tr>\n",
       "      <th>14998</th>\n",
       "      <td>14999</td>\n",
       "      <td>0.37</td>\n",
       "      <td>0.52</td>\n",
       "      <td>2</td>\n",
       "      <td>158</td>\n",
       "      <td>3</td>\n",
       "      <td>0</td>\n",
       "      <td>1</td>\n",
       "      <td>0</td>\n",
       "      <td>support</td>\n",
       "      <td>low</td>\n",
       "      <td>Less than $45,000</td>\n",
       "    </tr>\n",
       "    <tr>\n",
       "      <th>14999</th>\n",
       "      <td>15000</td>\n",
       "      <td>0.53</td>\n",
       "      <td>0.70</td>\n",
       "      <td>3</td>\n",
       "      <td>195</td>\n",
       "      <td>3</td>\n",
       "      <td>0</td>\n",
       "      <td>1</td>\n",
       "      <td>0</td>\n",
       "      <td>support</td>\n",
       "      <td>low</td>\n",
       "      <td>Less than $45,000</td>\n",
       "    </tr>\n",
       "  </tbody>\n",
       "</table>\n",
       "<p>15000 rows × 12 columns</p>\n",
       "</div>"
      ],
      "text/plain": [
       "       employee_id  satisfaction_level  last_evaluation_score  \\\n",
       "0                1                0.38                   0.53   \n",
       "1                2                0.80                   0.86   \n",
       "2                3                0.11                   0.88   \n",
       "3                4                0.72                   0.87   \n",
       "4                5                0.37                   0.52   \n",
       "...            ...                 ...                    ...   \n",
       "14995        14996                0.37                   0.48   \n",
       "14996        14997                0.37                   0.53   \n",
       "14997        14998                0.11                   0.96   \n",
       "14998        14999                0.37                   0.52   \n",
       "14999        15000                0.53                   0.70   \n",
       "\n",
       "       number_of_projects  average_monthly_hours  years_spent_at_company  \\\n",
       "0                       2                    157                       3   \n",
       "1                       5                    262                       6   \n",
       "2                       7                    272                       4   \n",
       "3                       5                    223                       5   \n",
       "4                       2                    159                       3   \n",
       "...                   ...                    ...                     ...   \n",
       "14995                   2                    160                       3   \n",
       "14996                   2                    143                       3   \n",
       "14997                   6                    280                       4   \n",
       "14998                   2                    158                       3   \n",
       "14999                   3                    195                       3   \n",
       "\n",
       "       work_accident  left_company  promotion_in_last_5years department  \\\n",
       "0                  0             1                         0      sales   \n",
       "1                  0             1                         0      sales   \n",
       "2                  0             1                         0      sales   \n",
       "3                  0             1                         0      sales   \n",
       "4                  0             1                         0      sales   \n",
       "...              ...           ...                       ...        ...   \n",
       "14995              0             1                         0    support   \n",
       "14996              0             1                         0    support   \n",
       "14997              0             1                         0    support   \n",
       "14998              0             1                         0    support   \n",
       "14999              0             1                         0    support   \n",
       "\n",
       "       salary       salary_range  \n",
       "0         low  Less than $45,000  \n",
       "1      medium  $45,000 - $74,999  \n",
       "2      medium  $45,000 - $74,999  \n",
       "3         low  Less than $45,000  \n",
       "4         low  Less than $45,000  \n",
       "...       ...                ...  \n",
       "14995     low  Less than $45,000  \n",
       "14996     low  Less than $45,000  \n",
       "14997     low  Less than $45,000  \n",
       "14998     low  Less than $45,000  \n",
       "14999     low  Less than $45,000  \n",
       "\n",
       "[15000 rows x 12 columns]"
      ]
     },
     "execution_count": 95,
     "metadata": {},
     "output_type": "execute_result"
    }
   ],
   "source": [
    "emp_data = pd.read_csv(\"employee_satisfaction.csv\")\n",
    "emp_data"
   ]
  },
  {
   "cell_type": "markdown",
   "metadata": {},
   "source": [
    "---\n",
    "\n",
    "### **Question 12.** \n",
    "\n",
    "\n",
    "What are the different departments in this data set?  \n",
    "\n",
    "Answer this question by using a function you learned - you should get a list of each department where each department is included exactly once."
   ]
  },
  {
   "cell_type": "code",
   "execution_count": 99,
   "metadata": {},
   "outputs": [
    {
     "data": {
      "text/plain": [
       "array(['sales', 'accounting', 'hr', 'technical', 'support', 'management',\n",
       "       'IT', 'product_mng', 'marketing', 'RandD'], dtype=object)"
      ]
     },
     "execution_count": 99,
     "metadata": {},
     "output_type": "execute_result"
    }
   ],
   "source": [
    "#code\n",
    "departments = emp_data['department'].unique()\n",
    "departments"
   ]
  },
  {
   "cell_type": "markdown",
   "metadata": {},
   "source": [
    "---\n",
    "\n",
    "### **Question 13.** \n",
    "\n",
    "\n",
    "Pick a department that interests you.  Use a scatterplot/correlation coefficient or a line graph to help you answer one of the questions below for your department.  \n",
    "\n",
    "**BE SURE TO EXPLAIN WHAT YOU'VE FOUND.**\n",
    "\n",
    "**TAKE NOTE:**\n",
    "\n",
    "* Feel free to create another ipynb to do your exploration for this question and the future questions if you are really interested in the dataset and you want to explore it in depth, but please note that is not necessary for this HW question.\n",
    "\n",
    "* You can just show one graph/explanation to get full credit, but please don't show more than 3 here.\n",
    "\n",
    "* Having said that, if you do screw around and find lots of cool things, please let me know by aubmitting your second ipynb and emailing me to let me know you've submitted 2.  (Again, this is not necessary but I know some of you like doing this.)\n",
    "\n",
    "**QUESTIONS TO CHOSE FROM - NOTE:  NOT ALL OF THESE ARE GOOD OPTIONS FOR SCATTER PLOTS/LINE PLOTS.  I AM TESTING TO SEE IF YOU CAN DECIDE THAT ON YOUR OWN.**"
   ]
  },
  {
   "cell_type": "markdown",
   "metadata": {},
   "source": [
    " \n",
    "a) Is there a relationship between years spent at the company and the number of projects a person works on?\n",
    "\n",
    "b) Is there a relationship between years spent at the company and satisfaction level?"
   ]
  },
  {
   "cell_type": "markdown",
   "metadata": {},
   "source": [
    "c) Does a higher salary level indicate a higher employee satisfaction average?\n",
    "\n",
    "d) Do the number of weekly hours and departmenet of the employee have a relationship?\n",
    "\n",
    "e) Does the satisfication level of the employee correlate with their evaluation score?\n",
    "\n",
    "f) Is there a relation betweent the amount of years spent at the company and their evaluated preformance rating? \n",
    "\n",
    "g) Is a relationship between the number project an employee does and the number of monthly hours worked\n",
    "\n",
    "h) Is there a relationship between the number of years spent at the company and the employees who were promoted?\n",
    "\n",
    "i) When compared to those with lower salaries, do highly payed employees work more hours?\n",
    "\n",
    "j) Do the number of projects correlation with the evaluation score of the employee?\n",
    "\n",
    "k) Is there an even mix of employees from each department?"
   ]
  },
  {
   "cell_type": "code",
   "execution_count": 114,
   "metadata": {},
   "outputs": [
    {
     "data": {
      "image/png": "[encoded data removed]",
      "text/plain": [
       "<Figure size 432x288 with 1 Axes>"
      ]
     },
     "metadata": {
      "needs_background": "light"
     },
     "output_type": "display_data"
    }
   ],
   "source": [
    "#Code here\n",
    "#Is there a correlation between years spent at the company and satisfaction level?\n",
    "#Feel free to add more code cells!\n",
    "plt.scatter(emp_data['satisfaction_level'], emp_data['years_spent_at_company'])\n",
    "plt.xlabel('Satisfaction Level')\n",
    "plt.ylabel('Years Spent at Company');"
   ]
  },
  {
   "cell_type": "markdown",
   "metadata": {},
   "source": [
    "<span style=\"color:red\">*For the first few years, satisfaction levels appear to be solid across the board until around year 7, when satisfaction overall begins to lean more towards a higher rating. This could be due to a number of reasons, perhaps several dissatisfied employees begin to drop off between year 6 and 7, or perhaps there are standard promotions within the company around that time frame that causes employees to be more satisfied.*</span>"
   ]
  },
  {
   "cell_type": "markdown",
   "metadata": {},
   "source": [
    "---\n",
    "\n",
    "### **Question 14.** \n",
    "\n",
    "\n",
    "Pick a second department that interests you.  Use a scatterplot/correlation coefficient or a line graph to answer the same question for that department.\n",
    "\n",
    "**BE SURE TO EXPLAIN WHAT YOU'VE FOUND.**"
   ]
  },
  {
   "cell_type": "code",
   "execution_count": 113,
   "metadata": {},
   "outputs": [
    {
     "data": {
      "image/png": "[encoded data removed]",
      "text/plain": [
       "<Figure size 432x288 with 1 Axes>"
      ]
     },
     "metadata": {
      "needs_background": "light"
     },
     "output_type": "display_data"
    }
   ],
   "source": [
    "#Code here\n",
    "#Is there a correlation between average monthly hours and satisfaction level?\n",
    "#Feel free to add more code cells!\n",
    "plt.scatter(emp_data['average_monthly_hours'], emp_data['satisfaction_level'])\n",
    "plt.xlabel('Average Monthly Hours')\n",
    "plt.ylabel('Satisfaction Level');"
   ]
  },
  {
   "cell_type": "markdown",
   "metadata": {},
   "source": [
    "<span style=\"color:red\">*There doesn't appear to be much of a correlation due to the closeness of the points, but there are a few points to be taken. Clearly, there is a drop off in satisfaction in the range between 275 and 300 monthly hours, showing that overworking is likely causing significant dissatisfaction for those employees. The next is a very solid chunk of employees working between 125 and 275 hours a month that have a decently high satisfaction level (above .5) which could indicate that this is the working hours that the company might want to target to increase satisfaction.*</span>"
   ]
  },
  {
   "cell_type": "markdown",
   "metadata": {},
   "source": [
    "---\n",
    "\n",
    "### **Question 15.** \n",
    "\n",
    "\n",
    "A) Here's one relationship I found.  Check out the graphs below.  Explain what we learn from these graphs.\n",
    "\n",
    "![image](https://raw.githubusercontent.com/kathleen-ryan-DeSales/CS250/main/pictures/Hw4_EmpSatisfaction.PNG)"
   ]
  },
  {
   "cell_type": "markdown",
   "metadata": {},
   "source": [
    "<span style=\"color:red\">*Image is not showing up for me!!!*</span>"
   ]
  },
  {
   "cell_type": "markdown",
   "metadata": {},
   "source": [
    "B) Write code to generate the above graphs from the `emp_data` table.  You can do this by making side-by-side graphs if you want to experiment, or feel free to create each graph in its own code cell."
   ]
  },
  {
   "cell_type": "code",
   "execution_count": 25,
   "metadata": {},
   "outputs": [],
   "source": [
    "#code for plot here.  Add more cells if needed!"
   ]
  },
  {
   "cell_type": "markdown",
   "metadata": {},
   "source": [
    "C) Find the correlation coefficient of the satisfaction levels versus the average monthly hours worked for EACH of the 2 groups above and verify they are both close to 0.  Based on the plots above, does this suggest there is no relationship between the variables?  Explain. "
   ]
  },
  {
   "cell_type": "code",
   "execution_count": 26,
   "metadata": {},
   "outputs": [
    {
     "data": {
      "text/plain": [
       "(Ellipsis, Ellipsis)"
      ]
     },
     "execution_count": 26,
     "metadata": {},
     "output_type": "execute_result"
    }
   ],
   "source": [
    "#You may need more code above here\n",
    "\n",
    "#But set these variables at the end\n",
    "emp_data_stayed_corr = ...\n",
    "emp_data_left_corr = ...\n",
    "emp_data_stayed_corr, emp_data_left_corr  #Should print out the correlations! "
   ]
  },
  {
   "cell_type": "markdown",
   "metadata": {},
   "source": [
    "<span style=\"color:red\">*Write your explanation here.*</span>"
   ]
  },
  {
   "cell_type": "markdown",
   "metadata": {},
   "source": [
    "---\n",
    "\n",
    "You're done!  Submit!"
   ]
  }
 ],
 "metadata": {
  "kernelspec": {
   "display_name": "Python 3 (ipykernel)",
   "language": "python",
   "name": "python3"
  },
  "language_info": {
   "codemirror_mode": {
    "name": "ipython",
    "version": 3
   },
   "file_extension": ".py",
   "mimetype": "text/x-python",
   "name": "python",
   "nbconvert_exporter": "python",
   "pygments_lexer": "ipython3",
   "version": "3.9.7"
  },
  "toc-autonumbering": false
 },
 "nbformat": 4,
 "nbformat_minor": 4
}
